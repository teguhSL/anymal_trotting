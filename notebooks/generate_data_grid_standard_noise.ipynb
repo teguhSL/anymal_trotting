{
 "cells": [
  {
   "cell_type": "code",
   "execution_count": 1,
   "id": "1b248a1a-6299-4e47-8fd8-945a1e5cdbfe",
   "metadata": {},
   "outputs": [
    {
     "name": "stderr",
     "output_type": "stream",
     "text": [
      "pybullet build time: Mar 26 2022 03:00:52\n"
     ]
    },
    {
     "data": {
      "text/plain": [
       "_StoreAction(option_strings=['--w_penetration'], dest='w_penetration', nargs=None, const=None, default=100, type=<class 'float'>, choices=None, help=None, metavar=None)"
      ]
     },
     "execution_count": 1,
     "metadata": {},
     "output_type": "execute_result"
    }
   ],
   "source": [
    "## Walking experiments with anymal\n",
    "\n",
    "import os, sys\n",
    "sys.path.append('../lib')\n",
    "\n",
    "import crocoddyl\n",
    "from crocoddyl.utils.quadruped import plotSolution\n",
    "from caracal.gaits import QuadrupedalGaitGenerator\n",
    "from caracal.utils import plotContactPhaseDiagram\n",
    "from caracal.params import SolverType\n",
    "import caracal\n",
    "import example_robot_data\n",
    "import pinocchio\n",
    "import pinocchio as pin\n",
    "import numpy as np\n",
    "import sys\n",
    "\n",
    "import time\n",
    "import copy\n",
    "import matplotlib.pyplot as plt\n",
    "from IPython.display import clear_output\n",
    "import hppfcl\n",
    "from pb_utils.visualize import set_q, vis_traj, create_primitives\n",
    "from sl1m_env import setup_pybullet, generate_stair_small, create_obstacle_from_scene, load_robot_pinocchio\n",
    "from anymal_utils import Simulator, create_contact_sequence_slim_to_caracal, compute_foot_pose, create_gait_trot, check_traj\n",
    "import pybullet as p\n",
    "import pybullet_data\n",
    "from functools import partial\n",
    "import argparse\n",
    "\n",
    "parser = argparse.ArgumentParser()\n",
    "parser.add_argument('--use_obstacle', type=bool, default=False)\n",
    "parser.add_argument('--use_noise',type=bool, default=False)\n",
    "parser.add_argument('--env_name',type=str, default='full_stair_small')\n",
    "parser.add_argument('--obs_weight',type=float, default=100)\n",
    "parser.add_argument('--solver_verbose',type=bool, default=False)\n",
    "parser.add_argument('--use_gui',type=bool, default=False)\n",
    "parser.add_argument('--N_ss',type=int, default=30)\n",
    "parser.add_argument('--N_ds',type=int, default=45)\n",
    "parser.add_argument('--MPC_HORIZON',type=int, default=60)\n",
    "parser.add_argument('--w_penetration',type=float, default=100)\n",
    "\n",
    "# args = parser.parse_args()"
   ]
  },
  {
   "cell_type": "code",
   "execution_count": 2,
   "id": "98a5d1dd-e29f-430e-ba1c-5c7200ff0792",
   "metadata": {},
   "outputs": [],
   "source": [
    "args = lambda : None"
   ]
  },
  {
   "cell_type": "code",
   "execution_count": 3,
   "id": "0d1f8e3f-d1f1-4848-abf0-cf1281e08130",
   "metadata": {},
   "outputs": [],
   "source": [
    "args.use_obstacle = True\n",
    "args.use_noise = False\n",
    "args.env_name = 'full_stair_small'\n",
    "args.obs_weight = 200\n",
    "args.solver_verbose = False\n",
    "args.use_gui = True\n",
    "args.N_ss = 30\n",
    "args.N_ds = 45\n",
    "args.MPC_HORIZON = 60"
   ]
  },
  {
   "cell_type": "code",
   "execution_count": 4,
   "id": "2ed833c5-a5b3-4e26-a4d9-2d4c5619de39",
   "metadata": {},
   "outputs": [],
   "source": [
    "args.env_name = 'more_closer_full_stair_small_0.15'"
   ]
  },
  {
   "cell_type": "code",
   "execution_count": 5,
   "id": "12c3e4a0-ae64-4bba-99fb-ea824e6ef953",
   "metadata": {},
   "outputs": [],
   "source": [
    "which_computer = 'idiap' #'idiap'\n",
    "if which_computer == 'laptop':\n",
    "    urdf_name = '/opt/openrobots/share/example-robot-data/robots/anymal_b_simple_description/robots/anymal.urdf'\n",
    "    mpc_filename = '/home/teguh/git/memmo/memmo_talos/anymal/generate_data_trot/data/config/mpc_params.yaml'\n",
    "    DATA_ROOT = '/media/teguh/Data2/anymal_data_new/'\n",
    "else:\n",
    "    urdf_name = '/idiap/temp/tlembono/miniconda3/envs/robotpkg/share/example-robot-data/robots/anymal_b_simple_description/robots/anymal.urdf'\n",
    "    mpc_filename = '/idiap/temp/tlembono/git/memmo_talos/anymal/generate_data_trot/data/config/mpc_params.yaml'\n",
    "    DATA_ROOT = '/idiap/temp/tlembono/data_new/'\n",
    "\n",
    "noise_t_set = np.load('data/noise_t_set.npy')\n",
    "noise_y_set = np.load('data/noise_y_set.npy')"
   ]
  },
  {
   "cell_type": "code",
   "execution_count": 5,
   "id": "35300224-4967-4d67-93c6-994c203ffc33",
   "metadata": {},
   "outputs": [
    {
     "name": "stderr",
     "output_type": "stream",
     "text": [
      "/idiap/temp/tlembono/miniconda3/envs/robotpkg/lib/python3.8/site-packages/pinocchio/shortcuts.py:45: UserWarning: You passed package dir(s) via argument geometry_model and provided package_dirs.\n",
      "  geom_model = pin.buildGeomFromUrdf(model, filename, geometry_type, package_dirs)\n"
     ]
    }
   ],
   "source": [
    "use_obstacle = args.use_obstacle #false for standard, true for gianni's formulation\n",
    "use_noise = args.use_noise\n",
    "MPC_HORIZON = args.MPC_HORIZON\n",
    "if use_obstacle:\n",
    "    if use_noise is False:\n",
    "        PROJECT_PATH = DATA_ROOT + 'gianni_new/' \n",
    "        noise_y_set *= 0.\n",
    "    else:\n",
    "        PROJECT_PATH = DATA_ROOT + 'gianni_noise/' \n",
    "else:\n",
    "    if use_noise is False:\n",
    "        PROJECT_PATH = DATA_ROOT + 'standard/'\n",
    "        noise_y_set *= 0.\n",
    "    else:\n",
    "        PROJECT_PATH = DATA_ROOT + 'standard_noise/' \n",
    "\n",
    "#env_name = '../env/urdf/full_stair_small.urdf'\n",
    "np.set_printoptions(precision=3, suppress=True)\n",
    "\n",
    "#### Load contact sequence data\n",
    "\n",
    "#### Determine the environment\n",
    "if args.env_name == 'more_closer_full_stair_small_0.15':\n",
    "    total_data = np.load('data/more_closer_full_stair_small_0.15.npy', allow_pickle=True)[()]\n",
    "elif args.env_name == 'full_stair_small_0.15':\n",
    "    total_data = np.load('data/2full_stair_small_0.15.npy', allow_pickle=True)[()]\n",
    "elif args.env_name == 'full_stair_small_0.2':\n",
    "    total_data = np.load('data/2full_stair_small_0.2.npy', allow_pickle=True)[()]\n",
    "elif args.env_name == 'full_stair_small':\n",
    "    total_data = np.load('data/2full_stair_small.npy', allow_pickle=True)[()]\n",
    "elif args.env_name == 'full_stair':\n",
    "    total_data = np.load('data/2full_stair.npy', allow_pickle=True)[()]\n",
    "elif args.env_name == 'full_stair_small_slippery':\n",
    "    total_data = np.load('data/2full_stair_small.npy', allow_pickle=True)[()]\n",
    "else:\n",
    "    print('Env name {} does not exist'.format(args.env_name))\n",
    "    raise Exception\n",
    "    \n",
    "env_name = total_data[0]['env_name']\n",
    "if args.env_name == 'full_stair_small_slippery':\n",
    "    env_name = '../env/urdf/full_stair_small_slippery.urdf'\n",
    "    \n",
    "stairHeight = total_data[0]['stairHeight']\n",
    "N_STEP = total_data[0]['N_STEP']\n",
    "\n",
    "PROJECT_PATH += env_name[12:-5] + '/'\n",
    "\n",
    "## Pybullet Visualizations\n",
    "\n",
    "#### Setup Pybullet\n",
    "if args.use_gui:\n",
    "    p.connect(p.GUI)\n",
    "else:\n",
    "    p.connect(p.DIRECT)\n",
    "    \n",
    "p.configureDebugVisualizer(p.COV_ENABLE_GUI, 0)\n",
    "p.setAdditionalSearchPath(pybullet_data.getDataPath())\n",
    "\n",
    "robot_id, plane_id, env_id = setup_pybullet(urdf_name, env_name)\n",
    "\n",
    "pb_joint_indices = np.array([1, 2, 3, 11, 12, 13, 6, 7, 8, 16, 17, 18])\n",
    "set_q_std = partial(set_q, robot_id = robot_id, joint_indices=pb_joint_indices, set_base = True)\n",
    "vis_traj_std = partial(vis_traj, vis_func=set_q_std, dt = 0.001)\n",
    "\n",
    "#### Load pinocchio robot\n",
    "\n",
    "rmodel, rdata, q0, v0, rh_id, rf_id, lh_id, lf_id = load_robot_pinocchio()\n",
    "\n",
    "### Define the obstacle (from the scene)\n",
    "\n",
    "scene = generate_stair_small(stepHeight=stairHeight, side_margin=0.1)\n",
    "obstacles = create_obstacle_from_scene(scene, stair_height=stairHeight, obs_weight=args.obs_weight, use_full_size=True) \n",
    "###***** actual_radius to be checked. \n",
    "\n",
    "\n",
    "# obstacles[1]['radius'] = stairHeight/2 + 0.05\n",
    "# obstacles[1]['weight'] = 500\n",
    "\n",
    "#### Define MPC parameters\n",
    "\n",
    "# Create the MPC application\n",
    "params_caracal = caracal.CaracalParams()\n",
    "params = caracal.CaracalParams(mpc_filename)\n",
    "params.solverVerbose = args.solver_verbose\n",
    "params.withForceReg = True\n",
    "params.withImpulseReg = True\n",
    "#teguh\n",
    "params.start_obs_time = 1\n",
    "params.end_obs_time = args.N_ss-1\n",
    "params.Qx_JointVel = 1.4\n",
    "params.w_footcontact = 1\n",
    "params.w_footcontactvel = 1\n",
    "\n",
    "stepHeight = stairHeight\n",
    "\n",
    "N_ss = args.N_ss\n",
    "N_ds = args.N_ds\n",
    "ws = np.ones((N_ss,2))\n",
    "ws[:,0] *= 1e6\n",
    "ws[:,1] *= 1e4\n",
    "if use_obstacle:\n",
    "    ws[2:-2] *= 0\n",
    "\n",
    "## Batch Computation"
   ]
  },
  {
   "cell_type": "code",
   "execution_count": 6,
   "id": "78ce1c22-2498-4784-9a1f-5f63b96a6b0f",
   "metadata": {},
   "outputs": [],
   "source": [
    "import copy\n",
    "def compute_sim(data, n_iter, use_obstacle = False, use_noise = False, noise_y = 20., noise_t = 2000, MPC_HORIZON = 60):\n",
    "    '''\n",
    "    Computing one full simulation of a trotting gait on stairs\n",
    "    '''\n",
    "    q0[:3] = data['q_init']\n",
    "    cs = create_contact_sequence_slim_to_caracal(data['rh_poses'], data['rf_poses'], data['lh_poses'], data['lf_poses'])\n",
    "    gait = create_gait_trot(cs, N_ds = N_ds, N_ss = N_ss, stepHeight=stepHeight, ws = ws)\n",
    "    N_MPC_STEPS = gait.T\n",
    "    #### Initialize MPC\n",
    "    robot_id, plane_id, env_id = setup_pybullet(urdf_name, env_name)\n",
    "    set_q_std(q0)\n",
    "\n",
    "    params.solverIterations = n_iter\n",
    "    if use_obstacle:\n",
    "        mpc = caracal.Caracal(q0, rmodel, gait, MPC_HORIZON, params, obstacles)\n",
    "    else:\n",
    "        mpc = caracal.Caracal(q0, rmodel, gait, MPC_HORIZON, params)\n",
    "        \n",
    "    mpc.start(q0, maxiter=100)\n",
    "    simulator = Simulator(mpc, plane_id=plane_id, robot_id=robot_id, rmodel=rmodel)\n",
    "\n",
    "    #### Run MPC\n",
    "    xs_opt,us_opt,ffeas,xs_ref,us_ref  = [],[],[],[],[]\n",
    "    status_finish = True\n",
    "    try:\n",
    "        for i in range(N_MPC_STEPS*10):\n",
    "            if use_noise and (noise_t < i < noise_t+1000):\n",
    "                p.applyExternalForce(robot_id, -1, [0, noise_y,0], [0,0,0], p.LINK_FRAME)\n",
    "            x, u, feas_i, x_ref, u_ref = simulator.step()\n",
    "            if np.linalg.norm(x[:3]) > 5:\n",
    "                raise Exception\n",
    "            if np.isnan(x).any(): \n",
    "                raise Exception\n",
    "            if simulator.i == 1:\n",
    "                xs_opt.append(copy.deepcopy(x))\n",
    "                us_opt.append(copy.deepcopy(u))\n",
    "                ffeas.append(copy.deepcopy(feas_i))\n",
    "                xs_ref.append(copy.deepcopy(x_ref))\n",
    "                us_ref.append(copy.deepcopy(u_ref))\n",
    "    except:\n",
    "        status_finish = False\n",
    "        \n",
    "    print('Finish successfully')\n",
    "    coms = np.array([pinocchio.centerOfMass(rmodel, rdata, x[:19]) for x in xs_opt])\n",
    "    foot_poses = np.array([compute_foot_pose(rmodel, rdata, x[:19]) for x in xs_opt])\n",
    "    target_pose = compute_foot_pose(rmodel, rdata, xs_opt[-1][:19])\n",
    "\n",
    "    res = dict()\n",
    "    res['xs'] = np.array(xs_opt)\n",
    "    res['us'] = np.array(us_opt)\n",
    "    res['xs_ref'] = np.array(xs_ref)\n",
    "    res['us_ref'] = np.array(us_ref)\n",
    "    res['ffeas'] = np.array(ffeas)\n",
    "    res['coms'] = coms\n",
    "    res['cs'] = cs\n",
    "    res['N_ds'] = N_ds\n",
    "    res['N_ss'] = N_ss\n",
    "    res['stepHeight'] = stepHeight\n",
    "    res['ws'] = ws\n",
    "\n",
    "    res['foot_poses'] = foot_poses\n",
    "    res['target_pose'] = target_pose\n",
    "    res['params'] = params\n",
    "    res['n_iter'] = mpc._params.solverIterations\n",
    "    res['status_finish'] = status_finish\n",
    "    res['obs_weight'] = args.obs_weight\n",
    "    if use_noise:\n",
    "        res['noise_t'] = noise_t\n",
    "        res['noise_y'] = noise_y\n",
    "        \n",
    "    return res\n",
    "\n",
    "tic = time.time()\n",
    "\n",
    "res_data = []\n",
    "fail_set = []"
   ]
  },
  {
   "cell_type": "code",
   "execution_count": 7,
   "id": "eed86251-46cd-4f78-bc92-553ba66f0077",
   "metadata": {},
   "outputs": [],
   "source": [
    "data = total_data[0]\n",
    "n_iter = 1"
   ]
  },
  {
   "cell_type": "code",
   "execution_count": 8,
   "id": "7fe5a8ff-b6b3-422b-98fc-355ab67ba11e",
   "metadata": {},
   "outputs": [
    {
     "name": "stderr",
     "output_type": "stream",
     "text": [
      "/idiap/temp/tlembono/openrobots/lib/python3.8/site-packages/caracal/mpc.py:568: UserWarning: Deprecated. Use property active_set\n",
      "  contacts = model.differential.contacts.active\n",
      "/idiap/temp/tlembono/openrobots/lib/python3.8/site-packages/caracal/mpc.py:569: UserWarning: Deprecated. Use property active_set\n",
      "  nc = len(model.differential.contacts.active)\n"
     ]
    }
   ],
   "source": [
    "q0[:3] = data['q_init']\n",
    "cs = create_contact_sequence_slim_to_caracal(data['rh_poses'], data['rf_poses'], data['lh_poses'], data['lf_poses'])\n",
    "gait = create_gait_trot(cs, N_ds = N_ds, N_ss = N_ss, stepHeight=stepHeight, ws = ws)\n",
    "N_MPC_STEPS = gait.T\n",
    "#### Initialize MPC\n",
    "robot_id, plane_id, env_id = setup_pybullet(urdf_name, env_name)\n",
    "set_q_std(q0)\n",
    "\n",
    "params.solverIterations = n_iter\n",
    "if use_obstacle:\n",
    "    mpc = caracal.Caracal(q0, rmodel, gait, MPC_HORIZON, params, obstacles)\n",
    "else:\n",
    "    mpc = caracal.Caracal(q0, rmodel, gait, MPC_HORIZON, params)\n",
    "\n",
    "mpc.start(q0, maxiter=100)\n"
   ]
  },
  {
   "cell_type": "code",
   "execution_count": 14,
   "id": "765ac17a-ac88-45cd-93c0-76d8e8bcdd26",
   "metadata": {},
   "outputs": [
    {
     "name": "stdout",
     "output_type": "stream",
     "text": [
      "Planning 0 with 1 iterations\n",
      "Planning so far takes 92.79789352416992 seconds\n"
     ]
    },
    {
     "name": "stderr",
     "output_type": "stream",
     "text": [
      "/idiap/temp/tlembono/openrobots/lib/python3.8/site-packages/caracal/mpc.py:568: UserWarning: Deprecated. Use property active_set\n",
      "  contacts = model.differential.contacts.active\n",
      "/idiap/temp/tlembono/openrobots/lib/python3.8/site-packages/caracal/mpc.py:569: UserWarning: Deprecated. Use property active_set\n",
      "  nc = len(model.differential.contacts.active)\n",
      "/idiap/temp/tlembono/openrobots/lib/python3.8/site-packages/caracal/mpc.py:560: UserWarning: Deprecated. Use property active_set\n",
      "  contacts = model.impulses.active\n",
      "/idiap/temp/tlembono/openrobots/lib/python3.8/site-packages/caracal/mpc.py:561: UserWarning: Deprecated. Use property active_set\n",
      "  nc = len(model.impulses.active)\n"
     ]
    },
    {
     "name": "stdout",
     "output_type": "stream",
     "text": [
      "Finish successfully\n"
     ]
    },
    {
     "name": "stderr",
     "output_type": "stream",
     "text": [
      "/tmp/ipykernel_184330/232917850.py:53: VisibleDeprecationWarning: Creating an ndarray from ragged nested sequences (which is a list-or-tuple of lists-or-tuples-or ndarrays with different lengths or shapes) is deprecated. If you meant to do this, you must specify 'dtype=object' when creating the ndarray.\n",
      "  res['us_ref'] = np.array(us_ref)\n"
     ]
    },
    {
     "name": "stdout",
     "output_type": "stream",
     "text": [
      "Planning takes 92.79789352416992 seconds\n"
     ]
    }
   ],
   "source": [
    "from gridtk.tools import get_array_job_slice\n",
    "a = np.arange(len(total_data))\n",
    "a = a[get_array_job_slice(len(a))]\n",
    "toc = 1.\n",
    "for i in range(1):#a:\n",
    "    for n_iter in [1]:#:, 2, 5]:\n",
    "        #robot_id, plane_id, env_id = setup_pybullet(urdf_name, env_name)\n",
    "        noise_y, noise_t = noise_y_set[i], noise_t_set[i]\n",
    "        \n",
    "        print('Planning {} with {} iterations'.format(i, n_iter))\n",
    "        toc = time.time()\n",
    "        print('Planning so far takes {} seconds'.format(toc-tic))       \n",
    "        data = total_data[i]\n",
    "        try:\n",
    "            res = compute_sim(data, n_iter, use_obstacle=use_obstacle, use_noise = use_noise, noise_y = noise_y, noise_t = noise_t, MPC_HORIZON=MPC_HORIZON)\n",
    "        except BaseException as err:\n",
    "            fail_set += ['data_{}_{}_iter'.format(i,n_iter)]\n",
    "            print(err)\n",
    "            continue\n",
    "        res_data.append(res)\n",
    "        \n",
    "        if res['status_finish'] is False or check_traj(res['xs']) is False:\n",
    "            cur_file_name = PROJECT_PATH + '{}_iter_{}_horizon_fail/res_{}.npy'.format(n_iter, MPC_HORIZON, i)\n",
    "            cur_dir = PROJECT_PATH + '{}_iter_{}_horizon_fail'.format(n_iter, MPC_HORIZON,  i)\n",
    "        else:\n",
    "            cur_file_name = PROJECT_PATH + '{}_iter_{}_horizon/res_{}.npy'.format(n_iter, MPC_HORIZON, i)\n",
    "            cur_dir = PROJECT_PATH + '{}_iter_{}_horizon'.format(n_iter, MPC_HORIZON, i)\n",
    "        if os.path.exists(cur_dir) is False:\n",
    "            os.makedirs(cur_dir)\n",
    "\n",
    "        np.savez_compressed(cur_dir +'/res_{}'.format(i), res=res)\n",
    "\n",
    "print('Planning takes {} seconds'.format(toc-tic))\n",
    "\n",
    "np.save(PROJECT_PATH + 'failset.npy', fail_set)"
   ]
  },
  {
   "cell_type": "code",
   "execution_count": null,
   "id": "d8bfee97-96c9-41a5-a132-0155bcf058bc",
   "metadata": {},
   "outputs": [],
   "source": []
  }
 ],
 "metadata": {
  "kernelspec": {
   "display_name": "Python 3 (ipykernel)",
   "language": "python",
   "name": "python3"
  },
  "language_info": {
   "codemirror_mode": {
    "name": "ipython",
    "version": 3
   },
   "file_extension": ".py",
   "mimetype": "text/x-python",
   "name": "python",
   "nbconvert_exporter": "python",
   "pygments_lexer": "ipython3",
   "version": "3.8.12"
  }
 },
 "nbformat": 4,
 "nbformat_minor": 5
}
